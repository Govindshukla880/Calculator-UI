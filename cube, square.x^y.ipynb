{
 "cells": [
  {
   "cell_type": "markdown",
   "id": "65fdbbde-bef7-49a9-8fd4-b5f8d47c6eee",
   "metadata": {},
   "source": [
    "### calculator "
   ]
  },
  {
   "cell_type": "code",
   "execution_count": 1,
   "id": "dedc1be4-6d08-4f30-a7b4-7b5dc618d3a5",
   "metadata": {},
   "outputs": [
    {
     "name": "stdin",
     "output_type": "stream",
     "text": [
      "Enter the number here x : 5\n"
     ]
    },
    {
     "name": "stdout",
     "output_type": "stream",
     "text": [
      "The 1/x number is  0.2\n"
     ]
    }
   ],
   "source": [
    "# 1/X\n",
    "\n",
    "x = float(input(\"Enter the number here x :\"))\n",
    "num = 1/x\n",
    "print(\"The 1/x number is \",num)"
   ]
  },
  {
   "cell_type": "code",
   "execution_count": 3,
   "id": "d4417ddf-123d-4f57-b37b-b71fb7b088e1",
   "metadata": {},
   "outputs": [
    {
     "name": "stdin",
     "output_type": "stream",
     "text": [
      "Enter the number here x: 22\n",
      "Enter the number here y: 2\n"
     ]
    },
    {
     "name": "stdout",
     "output_type": "stream",
     "text": [
      "The x^y number is  484.0\n"
     ]
    }
   ],
   "source": [
    "#x^y\n",
    "x = float(input(\"Enter the number here x:\"))\n",
    "y = float(input(\"Enter the number here y:\"))\n",
    "n1 = x ** y\n",
    "print(\"The x^y number is \",n1)"
   ]
  },
  {
   "cell_type": "code",
   "execution_count": 4,
   "id": "e3c5ed1b-ef48-4e5b-a91c-36fc2bd9bf8b",
   "metadata": {},
   "outputs": [
    {
     "name": "stdin",
     "output_type": "stream",
     "text": [
      "enter the number here : 5\n"
     ]
    },
    {
     "name": "stdout",
     "output_type": "stream",
     "text": [
      "The cube number is  125.0\n"
     ]
    }
   ],
   "source": [
    "##cube\n",
    "num = float(input(\"enter the number here :\"))\n",
    "cube = num**3\n",
    "print(\"The cube number is \",cube)\n"
   ]
  },
  {
   "cell_type": "code",
   "execution_count": null,
   "id": "2d32e493-8b5c-4c13-ae0c-c650172b28bf",
   "metadata": {},
   "outputs": [],
   "source": []
  }
 ],
 "metadata": {
  "kernelspec": {
   "display_name": "Python 3 (ipykernel)",
   "language": "python",
   "name": "python3"
  },
  "language_info": {
   "codemirror_mode": {
    "name": "ipython",
    "version": 3
   },
   "file_extension": ".py",
   "mimetype": "text/x-python",
   "name": "python",
   "nbconvert_exporter": "python",
   "pygments_lexer": "ipython3",
   "version": "3.10.10"
  }
 },
 "nbformat": 4,
 "nbformat_minor": 5
}
