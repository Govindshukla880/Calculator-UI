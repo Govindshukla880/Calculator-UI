{
 "cells": [
  {
   "cell_type": "code",
   "execution_count": 15,
   "id": "2d08a6e6-c05c-4b79-8346-3bbeb8bf3ae1",
   "metadata": {},
   "outputs": [
    {
     "name": "stdin",
     "output_type": "stream",
     "text": [
      "ENTER BASE VALUE 10\n",
      "ENTER VALUE 10\n"
     ]
    },
    {
     "name": "stdout",
     "output_type": "stream",
     "text": [
      "The logarithm of 10 with base 10 is 1\n"
     ]
    }
   ],
   "source": [
    "def log(base, value):\n",
    "    result = 0\n",
    "    while value > 1:\n",
    "        value /= base\n",
    "        result += 1\n",
    "    return result\n",
    "\n",
    "base = int(input(\"ENTER BASE VALUE\"))\n",
    "value = int(input(\"ENTER VALUE\"))\n",
    "log_r = log(base, value)\n",
    "print(f\"The logarithm of {value} with base {base} is {log_r}\")"
   ]
  },
  {
   "cell_type": "code",
   "execution_count": null,
   "id": "5e2e9e1c-cb38-4f9c-8c44-1b51f148be4b",
   "metadata": {},
   "outputs": [],
   "source": []
  }
 ],
 "metadata": {
  "kernelspec": {
   "display_name": "Python 3 (ipykernel)",
   "language": "python",
   "name": "python3"
  },
  "language_info": {
   "codemirror_mode": {
    "name": "ipython",
    "version": 3
   },
   "file_extension": ".py",
   "mimetype": "text/x-python",
   "name": "python",
   "nbconvert_exporter": "python",
   "pygments_lexer": "ipython3",
   "version": "3.10.10"
  }
 },
 "nbformat": 4,
 "nbformat_minor": 5
}
