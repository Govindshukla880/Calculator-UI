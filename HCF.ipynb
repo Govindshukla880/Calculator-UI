{
 "cells": [
  {
   "cell_type": "code",
   "execution_count": 2,
   "id": "d29e57ec-f589-498e-96cf-c44a52518b6e",
   "metadata": {},
   "outputs": [
    {
     "name": "stdin",
     "output_type": "stream",
     "text": [
      "Enter first no: 987\n",
      "Enter second no: 89\n"
     ]
    },
    {
     "name": "stdout",
     "output_type": "stream",
     "text": [
      "The H.C.F. is  1\n"
     ]
    }
   ],
   "source": [
    "def find_hcf(x,y):\n",
    "    if (x < y):\n",
    "        smaller=x\n",
    "    else:\n",
    "        smaller = y\n",
    "    hcf=0\n",
    "    for i in range(1,smaller+1):\n",
    "            if((x%i==0)and(y%i==0)):\n",
    "                hcf = i\n",
    "    return hcf\n",
    "num1=int(input(\"Enter first no:\"))\n",
    "num2=int(input(\"Enter second no:\"))\n",
    "print(\"The H.C.F. is \",find_hcf(num1,num2))"
   ]
  },
  {
   "cell_type": "code",
   "execution_count": null,
   "id": "c4685874-1860-432d-9819-ef8329df0377",
   "metadata": {},
   "outputs": [],
   "source": []
  },
  {
   "cell_type": "code",
   "execution_count": null,
   "id": "45a7b1fd-6337-4941-a412-f6de9c4756af",
   "metadata": {},
   "outputs": [],
   "source": []
  }
 ],
 "metadata": {
  "kernelspec": {
   "display_name": "Python 3 (ipykernel)",
   "language": "python",
   "name": "python3"
  },
  "language_info": {
   "codemirror_mode": {
    "name": "ipython",
    "version": 3
   },
   "file_extension": ".py",
   "mimetype": "text/x-python",
   "name": "python",
   "nbconvert_exporter": "python",
   "pygments_lexer": "ipython3",
   "version": "3.10.10"
  }
 },
 "nbformat": 4,
 "nbformat_minor": 5
}
