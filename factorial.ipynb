{
 "cells": [
  {
   "cell_type": "code",
   "execution_count": 4,
   "id": "ed01d0a9-790f-42ec-bbb3-76e5dc1edf3c",
   "metadata": {
    "jupyter": {
     "source_hidden": true
    }
   },
   "outputs": [
    {
     "name": "stdin",
     "output_type": "stream",
     "text": [
      "Enter the number you want to factorial 9\n"
     ]
    },
    {
     "name": "stdout",
     "output_type": "stream",
     "text": [
      "Factorial of 9 is 362880\n"
     ]
    }
   ],
   "source": [
    "num = int(input(\"Enter the number you want to factorial\"))\n",
    "factorial = 1\n",
    "if num<0:\n",
    "    print(\"Number should be positive\")\n",
    "elif num>0:\n",
    "    for i in range(1,num + 1):\n",
    "         factorial *= i\n",
    "    print(f\"Factorial of {num} is {factorial}\")\n",
    "\n",
    "        "
   ]
  },
  {
   "cell_type": "code",
   "execution_count": null,
   "id": "2dee7ed8-de33-4ca1-9463-373398b16b18",
   "metadata": {},
   "outputs": [],
   "source": []
  }
 ],
 "metadata": {
  "kernelspec": {
   "display_name": "Python 3 (ipykernel)",
   "language": "python",
   "name": "python3"
  },
  "language_info": {
   "codemirror_mode": {
    "name": "ipython",
    "version": 3
   },
   "file_extension": ".py",
   "mimetype": "text/x-python",
   "name": "python",
   "nbconvert_exporter": "python",
   "pygments_lexer": "ipython3",
   "version": "3.10.10"
  }
 },
 "nbformat": 4,
 "nbformat_minor": 5
}
